{
 "cells": [
  {
   "cell_type": "code",
   "execution_count": 1,
   "metadata": {
    "colab": {
     "base_uri": "https://localhost:8080/"
    },
    "id": "PH-1DkPqG1iM",
    "outputId": "fda86d1e-c11b-4944-ff7d-3f4a22fe72c8"
   },
   "outputs": [
    {
     "name": "stdout",
     "output_type": "stream",
     "text": [
      "Requirement already satisfied: bitsandbytes in /Library/Frameworks/Python.framework/Versions/3.12/lib/python3.12/site-packages (0.42.0)\n",
      "Requirement already satisfied: scipy in /Library/Frameworks/Python.framework/Versions/3.12/lib/python3.12/site-packages (from bitsandbytes) (1.15.1)\n",
      "Requirement already satisfied: numpy<2.5,>=1.23.5 in /Library/Frameworks/Python.framework/Versions/3.12/lib/python3.12/site-packages (from scipy->bitsandbytes) (2.1.3)\n"
     ]
    }
   ],
   "source": [
    "!pip install -U bitsandbytes"
   ]
  },
  {
   "cell_type": "code",
   "execution_count": 2,
   "metadata": {},
   "outputs": [
    {
     "name": "stdout",
     "output_type": "stream",
     "text": [
      "Requirement already satisfied: pip in /Library/Frameworks/Python.framework/Versions/3.12/lib/python3.12/site-packages (25.1.1)\n",
      "Note: you may need to restart the kernel to use updated packages.\n"
     ]
    }
   ],
   "source": [
    "pip install --upgrade pip"
   ]
  },
  {
   "cell_type": "code",
   "execution_count": null,
   "metadata": {
    "id": "ADrAe651IdFm"
   },
   "outputs": [],
   "source": [
    "import os\n",
    "\n",
    "os.environ['AWS_ACCESS_KEY_ID'] = ''\n",
    "os.environ['AWS_SECRET_ACCESS_KEY'] = ''\n",
    "os.environ['AWS_DEFAULT_REGION'] = ''  # e.g., 'us-east-1'"
   ]
  },
  {
   "cell_type": "code",
   "execution_count": null,
   "metadata": {
    "colab": {
     "base_uri": "https://localhost:8080/"
    },
    "id": "04Rwk7c0GDS6",
    "outputId": "6cab5797-c7cb-45b8-dd0b-a20d1a5d121a"
   },
   "outputs": [
    {
     "name": "stdout",
     "output_type": "stream",
     "text": [
      "Requirement already satisfied: boto3 in /Library/Frameworks/Python.framework/Versions/3.12/lib/python3.12/site-packages (1.38.6)\n",
      "Requirement already satisfied: botocore<1.39.0,>=1.38.6 in /Library/Frameworks/Python.framework/Versions/3.12/lib/python3.12/site-packages (from boto3) (1.38.6)\n",
      "Requirement already satisfied: jmespath<2.0.0,>=0.7.1 in /Library/Frameworks/Python.framework/Versions/3.12/lib/python3.12/site-packages (from boto3) (1.0.1)\n",
      "Requirement already satisfied: s3transfer<0.13.0,>=0.12.0 in /Library/Frameworks/Python.framework/Versions/3.12/lib/python3.12/site-packages (from boto3) (0.12.0)\n",
      "Requirement already satisfied: python-dateutil<3.0.0,>=2.1 in /Users/pravalika/Library/Python/3.12/lib/python/site-packages (from botocore<1.39.0,>=1.38.6->boto3) (2.9.0.post0)\n",
      "Requirement already satisfied: urllib3!=2.2.0,<3,>=1.25.4 in /Library/Frameworks/Python.framework/Versions/3.12/lib/python3.12/site-packages (from botocore<1.39.0,>=1.38.6->boto3) (2.3.0)\n",
      "Requirement already satisfied: six>=1.5 in /Users/pravalika/Library/Python/3.12/lib/python/site-packages (from python-dateutil<3.0.0,>=2.1->botocore<1.39.0,>=1.38.6->boto3) (1.16.0)\n",
      "Requirement already satisfied: mistralai in /Library/Frameworks/Python.framework/Versions/3.12/lib/python3.12/site-packages (1.7.0)\n",
      "Requirement already satisfied: eval-type-backport>=0.2.0 in /Library/Frameworks/Python.framework/Versions/3.12/lib/python3.12/site-packages (from mistralai) (0.2.2)\n",
      "Requirement already satisfied: httpx>=0.28.1 in /Library/Frameworks/Python.framework/Versions/3.12/lib/python3.12/site-packages (from mistralai) (0.28.1)\n",
      "Requirement already satisfied: pydantic>=2.10.3 in /Library/Frameworks/Python.framework/Versions/3.12/lib/python3.12/site-packages (from mistralai) (2.10.6)\n",
      "Requirement already satisfied: python-dateutil>=2.8.2 in /Users/pravalika/Library/Python/3.12/lib/python/site-packages (from mistralai) (2.9.0.post0)\n",
      "Requirement already satisfied: typing-inspection>=0.4.0 in /Library/Frameworks/Python.framework/Versions/3.12/lib/python3.12/site-packages (from mistralai) (0.4.0)\n",
      "Requirement already satisfied: anyio in /Library/Frameworks/Python.framework/Versions/3.12/lib/python3.12/site-packages (from httpx>=0.28.1->mistralai) (4.8.0)\n",
      "Requirement already satisfied: certifi in /Library/Frameworks/Python.framework/Versions/3.12/lib/python3.12/site-packages (from httpx>=0.28.1->mistralai) (2025.1.31)\n",
      "Requirement already satisfied: httpcore==1.* in /Library/Frameworks/Python.framework/Versions/3.12/lib/python3.12/site-packages (from httpx>=0.28.1->mistralai) (1.0.7)\n",
      "Requirement already satisfied: idna in /Library/Frameworks/Python.framework/Versions/3.12/lib/python3.12/site-packages (from httpx>=0.28.1->mistralai) (3.7)\n",
      "Requirement already satisfied: h11<0.15,>=0.13 in /Library/Frameworks/Python.framework/Versions/3.12/lib/python3.12/site-packages (from httpcore==1.*->httpx>=0.28.1->mistralai) (0.14.0)\n",
      "Requirement already satisfied: annotated-types>=0.6.0 in /Library/Frameworks/Python.framework/Versions/3.12/lib/python3.12/site-packages (from pydantic>=2.10.3->mistralai) (0.7.0)\n",
      "Requirement already satisfied: pydantic-core==2.27.2 in /Library/Frameworks/Python.framework/Versions/3.12/lib/python3.12/site-packages (from pydantic>=2.10.3->mistralai) (2.27.2)\n",
      "Requirement already satisfied: typing-extensions>=4.12.2 in /Library/Frameworks/Python.framework/Versions/3.12/lib/python3.12/site-packages (from pydantic>=2.10.3->mistralai) (4.12.2)\n",
      "Requirement already satisfied: six>=1.5 in /Users/pravalika/Library/Python/3.12/lib/python/site-packages (from python-dateutil>=2.8.2->mistralai) (1.16.0)\n",
      "Requirement already satisfied: sniffio>=1.1 in /Library/Frameworks/Python.framework/Versions/3.12/lib/python3.12/site-packages (from anyio->httpx>=0.28.1->mistralai) (1.3.1)\n"
     ]
    }
   ],
   "source": [
    "!pip install boto3\n",
    "import boto3\n",
    "import os\n",
    "import json\n",
    "!pip install mistralai\n",
    "from mistralai import Mistral\n",
    "mistral_api_key = ''\n",
    "client = Mistral(api_key=mistral_api_key)\n",
    "s3 = boto3.client('s3')\n",
    "bucket_name = 'hydroponic123'\n",
    "prefix = 'good-strawberry1.jpg'\n",
    "client = Mistral(api_key=mistral_api_key)"
   ]
  },
  {
   "cell_type": "code",
   "execution_count": 5,
   "metadata": {
    "id": "EBl2EUKOGEuM"
   },
   "outputs": [],
   "source": [
    "def list_images_in_s3(bucket, prefix=''):\n",
    "    \"\"\"List image files in an S3 bucket with a prefix\"\"\"\n",
    "    response = s3.list_objects_v2(Bucket=bucket, Prefix=prefix)\n",
    "    return [obj['Key'] for obj in response.get('Contents', []) if obj['Key'].lower().endswith(('.jpg', '.png'))]\n",
    "\n",
    "def get_presigned_url(bucket, key, expiration=3600):\n",
    "    \"\"\"Generate a temporary URL to access the S3 object\"\"\"\n",
    "    return s3.generate_presigned_url('get_object',\n",
    "                                     Params={'Bucket': bucket, 'Key': key},\n",
    "                                     ExpiresIn=expiration)\n"
   ]
  },
  {
   "cell_type": "code",
   "execution_count": 6,
   "metadata": {
    "id": "pAyzcAnTHZOf"
   },
   "outputs": [],
   "source": [
    "def analyze_image(image_url):\n",
    "    \"\"\"Send image to Mistral API for analysis\"\"\"\n",
    "    messages = [\n",
    "        {\n",
    "            \"role\": \"user\",\n",
    "            \"content\": [\n",
    "                {\n",
    "                    \"type\": \"text\",\n",
    "                    \"text\": 'Analyze this strawberry plant image in detail and provide:\\n'\n",
    "                            '1. Overall plant health status\\n'\n",
    "                            '2. Any signs of fungal diseases\\n'\n",
    "                            '3. Fruit condition (if visible)\\n'\n",
    "                            '4. Leaf health\\n'\n",
    "                            '5. Particular diseases_detected (if any)\\n'\n",
    "                            '6. Recommendations to decrease the disease spread in hydroponic farm\\n'\n",
    "                            '7. Give me the particular fungiside or any that will decrease the disease\\n'\n",
    "                            '8. How to use the fungisides process in hydroponic farm\\n'\n",
    "                            '6. Recommended actions\\n'\n",
    "                            'Format the response as a JSON object with these keys:\\n'\n",
    "                            'health_status, fungal_status, fruit_condition, leaf_health,\\n'\n",
    "                            'diseases_detected, recommendations'\n",
    "                },\n",
    "                {\n",
    "                    \"type\": \"image_url\",\n",
    "                    \"image_url\": image_url\n",
    "                }\n",
    "            ]\n",
    "        }\n",
    "    ]\n",
    "\n",
    "    try:\n",
    "        chat_response = client.chat.complete(\n",
    "            model=\"pixtral-12b-2409\",\n",
    "            messages=messages\n",
    "        )\n",
    "        return chat_response.choices[0].message.content\n",
    "    except Exception as e:\n",
    "        return {\"error\": str(e)}\n"
   ]
  },
  {
   "cell_type": "code",
   "execution_count": 7,
   "metadata": {
    "colab": {
     "base_uri": "https://localhost:8080/",
     "height": 382
    },
    "id": "sSO229djHj7b",
    "outputId": "24f3232c-86cd-4ebb-af8d-bbc02adb3168"
   },
   "outputs": [
    {
     "name": "stdout",
     "output_type": "stream",
     "text": [
      "Analyzing image: good-strawberry1.jpg\n",
      "Analysis complete for good-strawberry1.jpg\n",
      "--------------------------------------------------\n",
      "Results written to image_analysis_results.json\n"
     ]
    }
   ],
   "source": [
    "\n",
    "if __name__ == \"__main__\":\n",
    "    image_keys = list_images_in_s3(bucket_name, prefix)\n",
    "\n",
    "    results = []\n",
    "\n",
    "    for key in image_keys:\n",
    "        file_name = key.split(\"/\")[-1]\n",
    "        image_url = get_presigned_url(bucket_name, key)\n",
    "\n",
    "        print(f\"Analyzing image: {file_name}\")\n",
    "        analysis_result = analyze_image(image_url)\n",
    "\n",
    "        results.append({\n",
    "            \"file_name\": file_name,\n",
    "            \"s3_key\": key,\n",
    "            \"analysis_result\": analysis_result\n",
    "        })\n",
    "        print(f\"Analysis complete for {file_name}\")\n",
    "        print(\"-\" * 50)\n",
    "\n",
    "    with open(\"image_analysis_results.json\", \"w\") as f:\n",
    "        json.dump(results, f, indent=4)\n",
    "\n",
    "    print(\"Results written to image_analysis_results.json\")\n"
   ]
  },
  {
   "cell_type": "code",
   "execution_count": 8,
   "metadata": {},
   "outputs": [
    {
     "name": "stdout",
     "output_type": "stream",
     "text": [
      "[\n",
      "    {\n",
      "        \"file_name\": \"good-strawberry1.jpg\",\n",
      "        \"s3_key\": \"good-strawberry1.jpg\",\n",
      "        \"analysis_result\": \"```json\\n{\\n  \\\"health_status\\\": \\\"The overall plant health appears to be good. The strawberries are vibrant and the leaves are green and healthy.\\\",\\n  \\\"fungal_status\\\": \\\"No visible signs of fungal diseases on the strawberries or leaves.\\\",\\n  \\\"fruit_condition\\\": \\\"The fruits are ripe, red, and appear to be in good condition without any visible blemishes or deformities.\\\",\\n  \\\"leaf_health\\\": \\\"The leaves are green and appear healthy with no visible signs of disease or pests.\\\",\\n  \\\"diseases_detected\\\": \\\"No particular diseases detected.\\\",\\n  \\\"recommendations\\\": {\\n    \\\"preventive_measure\\\": \\\"To maintain plant health and prevent potential fungal diseases, consider the following measures in a hydroponic farm:\\\",\\n    \\\"environmental_control\\\": \\\"Maintain proper humidity and temperature levels to reduce the risk of fungal infections.\\\",\\n    \\\"sanitation\\\": \\\"Regularly clean and disinfect the hydroponic system to prevent the spread of pathogens.\\\",\\n    \\\"airflow\\\": \\\"Ensure adequate air circulation around the plants to reduce moisture buildup.\\\",\\n    \\\"nutrient_management\\\": \\\"Maintain proper nutrient levels and pH balance in the hydroponic solution to support plant health.\\\",\\n    \\\"fungicide_usage\\\": {\\n      \\\"fungicide_name\\\": \\\"Copper-based fungicides or sulfur-based fungicides\\\",\\n      \\\"application_process\\\": \\\"Apply fungicides as a preventive measure according to the manufacturer's instructions. In a hydroponic farm, this can be done by adding the fungicide to the nutrient solution or spraying the plants directly.\\\",\\n      \\\"frequency\\\": \\\"Apply fungicides every 7-14 days or as recommended by the manufacturer.\\\"\\n    }\\n  },\\n  \\\"recommended_actions\\\": \\\"Regularly monitor the plants for any signs of disease or pests. Implement the preventive measures and use fungicides as needed to maintain plant health and productivity.\\\"\\n}\\n```\"\n",
      "    }\n",
      "]\n"
     ]
    }
   ],
   "source": [
    "with open(\"image_analysis_results.json\", \"r\") as f:\n",
    "    data = json.load(f)\n",
    "\n",
    "print(json.dumps(data, indent=4))"
   ]
  },
  {
   "cell_type": "code",
   "execution_count": 11,
   "metadata": {},
   "outputs": [
    {
     "name": "stderr",
     "output_type": "stream",
     "text": [
      "huggingface/tokenizers: The current process just got forked, after parallelism has already been used. Disabling parallelism to avoid deadlocks...\n",
      "To disable this warning, you can either:\n",
      "\t- Avoid using `tokenizers` before the fork if possible\n",
      "\t- Explicitly set the environment variable TOKENIZERS_PARALLELISM=(true | false)\n"
     ]
    },
    {
     "name": "stdout",
     "output_type": "stream",
     "text": [
      "Requirement already satisfied: sentence-transformers in /Library/Frameworks/Python.framework/Versions/3.12/lib/python3.12/site-packages (4.1.0)\n",
      "Requirement already satisfied: transformers<5.0.0,>=4.41.0 in /Library/Frameworks/Python.framework/Versions/3.12/lib/python3.12/site-packages (from sentence-transformers) (4.51.3)\n",
      "Requirement already satisfied: tqdm in /Library/Frameworks/Python.framework/Versions/3.12/lib/python3.12/site-packages (from sentence-transformers) (4.67.1)\n",
      "Requirement already satisfied: torch>=1.11.0 in /Library/Frameworks/Python.framework/Versions/3.12/lib/python3.12/site-packages (from sentence-transformers) (2.7.0)\n",
      "Requirement already satisfied: scikit-learn in /Library/Frameworks/Python.framework/Versions/3.12/lib/python3.12/site-packages (from sentence-transformers) (1.6.1)\n",
      "Requirement already satisfied: scipy in /Library/Frameworks/Python.framework/Versions/3.12/lib/python3.12/site-packages (from sentence-transformers) (1.15.1)\n",
      "Requirement already satisfied: huggingface-hub>=0.20.0 in /Library/Frameworks/Python.framework/Versions/3.12/lib/python3.12/site-packages (from sentence-transformers) (0.30.2)\n",
      "Requirement already satisfied: Pillow in /Library/Frameworks/Python.framework/Versions/3.12/lib/python3.12/site-packages (from sentence-transformers) (11.1.0)\n",
      "Requirement already satisfied: typing_extensions>=4.5.0 in /Library/Frameworks/Python.framework/Versions/3.12/lib/python3.12/site-packages (from sentence-transformers) (4.12.2)\n",
      "Requirement already satisfied: filelock in /Library/Frameworks/Python.framework/Versions/3.12/lib/python3.12/site-packages (from transformers<5.0.0,>=4.41.0->sentence-transformers) (3.17.0)\n",
      "Requirement already satisfied: numpy>=1.17 in /Library/Frameworks/Python.framework/Versions/3.12/lib/python3.12/site-packages (from transformers<5.0.0,>=4.41.0->sentence-transformers) (2.1.3)\n",
      "Requirement already satisfied: packaging>=20.0 in /Users/pravalika/Library/Python/3.12/lib/python/site-packages (from transformers<5.0.0,>=4.41.0->sentence-transformers) (24.2)\n",
      "Requirement already satisfied: pyyaml>=5.1 in /Library/Frameworks/Python.framework/Versions/3.12/lib/python3.12/site-packages (from transformers<5.0.0,>=4.41.0->sentence-transformers) (6.0.2)\n",
      "Requirement already satisfied: regex!=2019.12.17 in /Library/Frameworks/Python.framework/Versions/3.12/lib/python3.12/site-packages (from transformers<5.0.0,>=4.41.0->sentence-transformers) (2024.11.6)\n",
      "Requirement already satisfied: requests in /Library/Frameworks/Python.framework/Versions/3.12/lib/python3.12/site-packages (from transformers<5.0.0,>=4.41.0->sentence-transformers) (2.32.3)\n",
      "Requirement already satisfied: tokenizers<0.22,>=0.21 in /Library/Frameworks/Python.framework/Versions/3.12/lib/python3.12/site-packages (from transformers<5.0.0,>=4.41.0->sentence-transformers) (0.21.1)\n",
      "Requirement already satisfied: safetensors>=0.4.3 in /Library/Frameworks/Python.framework/Versions/3.12/lib/python3.12/site-packages (from transformers<5.0.0,>=4.41.0->sentence-transformers) (0.5.3)\n",
      "Requirement already satisfied: fsspec>=2023.5.0 in /Library/Frameworks/Python.framework/Versions/3.12/lib/python3.12/site-packages (from huggingface-hub>=0.20.0->sentence-transformers) (2025.2.0)\n",
      "Requirement already satisfied: setuptools in /Library/Frameworks/Python.framework/Versions/3.12/lib/python3.12/site-packages (from torch>=1.11.0->sentence-transformers) (80.1.0)\n",
      "Requirement already satisfied: sympy>=1.13.3 in /Library/Frameworks/Python.framework/Versions/3.12/lib/python3.12/site-packages (from torch>=1.11.0->sentence-transformers) (1.14.0)\n",
      "Requirement already satisfied: networkx in /Library/Frameworks/Python.framework/Versions/3.12/lib/python3.12/site-packages (from torch>=1.11.0->sentence-transformers) (3.4.2)\n",
      "Requirement already satisfied: jinja2 in /Library/Frameworks/Python.framework/Versions/3.12/lib/python3.12/site-packages (from torch>=1.11.0->sentence-transformers) (3.1.3)\n",
      "Requirement already satisfied: mpmath<1.4,>=1.1.0 in /Library/Frameworks/Python.framework/Versions/3.12/lib/python3.12/site-packages (from sympy>=1.13.3->torch>=1.11.0->sentence-transformers) (1.3.0)\n",
      "Requirement already satisfied: MarkupSafe>=2.0 in /Library/Frameworks/Python.framework/Versions/3.12/lib/python3.12/site-packages (from jinja2->torch>=1.11.0->sentence-transformers) (2.1.5)\n",
      "Requirement already satisfied: charset-normalizer<4,>=2 in /Library/Frameworks/Python.framework/Versions/3.12/lib/python3.12/site-packages (from requests->transformers<5.0.0,>=4.41.0->sentence-transformers) (3.4.1)\n",
      "Requirement already satisfied: idna<4,>=2.5 in /Library/Frameworks/Python.framework/Versions/3.12/lib/python3.12/site-packages (from requests->transformers<5.0.0,>=4.41.0->sentence-transformers) (3.7)\n",
      "Requirement already satisfied: urllib3<3,>=1.21.1 in /Library/Frameworks/Python.framework/Versions/3.12/lib/python3.12/site-packages (from requests->transformers<5.0.0,>=4.41.0->sentence-transformers) (2.3.0)\n",
      "Requirement already satisfied: certifi>=2017.4.17 in /Library/Frameworks/Python.framework/Versions/3.12/lib/python3.12/site-packages (from requests->transformers<5.0.0,>=4.41.0->sentence-transformers) (2025.1.31)\n",
      "Requirement already satisfied: joblib>=1.2.0 in /Library/Frameworks/Python.framework/Versions/3.12/lib/python3.12/site-packages (from scikit-learn->sentence-transformers) (1.4.2)\n",
      "Requirement already satisfied: threadpoolctl>=3.1.0 in /Library/Frameworks/Python.framework/Versions/3.12/lib/python3.12/site-packages (from scikit-learn->sentence-transformers) (3.5.0)\n",
      "Note: you may need to restart the kernel to use updated packages.\n"
     ]
    },
    {
     "name": "stderr",
     "output_type": "stream",
     "text": [
      "huggingface/tokenizers: The current process just got forked, after parallelism has already been used. Disabling parallelism to avoid deadlocks...\n",
      "To disable this warning, you can either:\n",
      "\t- Avoid using `tokenizers` before the fork if possible\n",
      "\t- Explicitly set the environment variable TOKENIZERS_PARALLELISM=(true | false)\n"
     ]
    },
    {
     "name": "stdout",
     "output_type": "stream",
     "text": [
      "Requirement already satisfied: faiss-cpu in /Library/Frameworks/Python.framework/Versions/3.12/lib/python3.12/site-packages (1.11.0)\n",
      "Requirement already satisfied: numpy<3.0,>=1.25.0 in /Library/Frameworks/Python.framework/Versions/3.12/lib/python3.12/site-packages (from faiss-cpu) (2.1.3)\n",
      "Requirement already satisfied: packaging in /Users/pravalika/Library/Python/3.12/lib/python/site-packages (from faiss-cpu) (24.2)\n",
      "Note: you may need to restart the kernel to use updated packages.\n",
      "```json\n",
      "{\n",
      "  \"health_status\": \"Good\",\n",
      "  \"fungal_status\": \"No visible signs of fungal infection\",\n",
      "  \"fruit_condition\": \"Excellent, no visible damage or mold\",\n",
      "  \"leaf_health\": \"Good, no visible signs of powdery mildew\",\n",
      "  \"particular_diseases_detected\": \"None\",\n",
      "  \"Recommendations\": [\n",
      "    \"Maintain proper air circulation around the plants.\",\n",
      "    \"Ensure the hydroponic system is clean and free of debris.\",\n",
      "    \"Use beneficial bacteria and fungi to promote plant health.\",\n",
      "    \"Monitor humidity levels to prevent excessive moisture.\",\n",
      "    \"Regularly inspect plants for early signs of disease.\"\n",
      "  ],\n",
      "  \"fungicide_recommendation\": \"Not needed\",\n",
      "  \"fungicide_usage_instructions\": \"N/A\"\n",
      "}\n",
      "```\n"
     ]
    }
   ],
   "source": [
    "%pip install sentence-transformers\n",
    "\n",
    "%pip install faiss-cpu\n",
    "\n",
    "from mistralai import Mistral\n",
    "\n",
    "from sentence_transformers import SentenceTransformer\n",
    "import faiss\n",
    "import json\n",
    "import requests\n",
    "\n",
    "# Specify model\n",
    "model = \"pixtral-12b-2409\"\n",
    "\n",
    "knowledge_base = [\n",
    "    \"Powdery mildew causes white fuzzy spots on strawberry leaves in humid environments.\",\n",
    "    \"Leaf spot shows up as brown or purple lesions on the leaf surface.\",\n",
    "    \"Root rot causes wilting and yellowing due to poor oxygen supply in hydroponic water.\",\n",
    "    \"Chlorosis (yellowing leaves) may indicate nutrient deficiencies or water stress.\",\n",
    "    \"Stunted growth could be caused by root problems or nutrient imbalances.\",\n",
    "    \"Nutrient deficiencies (e.g., nitrogen) can cause yellowing of the leaves.\",\n",
    "    \"Calcium deficiency causes malformed fruit and leaf tip burn.\",\n",
    "    \"Algae growth in hydroponic systems can clog pipes and affect nutrient absorption.\",\n",
    "    \"Anthracnose causes **dark sunken lesions on leaves** and **small brown, water-soaked spots** on fruits with **orange spore masses in humid conditions**.\",\n",
    "    \"Gray mold (Botrytis cinerea) appears as **fuzzy gray and fuzzy white mold** mainly on **ripening or damaged fruits**, especially in **cool, damp environments**.\",\n",
    "    \"Botrytis affects fruits and flowers, forming **gray-white mold patches** that are **soft and mushy to the touch**, often appearing **after harvest or injury**.\",\n",
    "    # Add more knowledge entries here\n",
    "]\n",
    "\n",
    "\n",
    "\n",
    "# Step 1: Create embeddings for knowledge base using SentenceTransformer\n",
    "embedder = SentenceTransformer(\"all-MiniLM-L6-v2\")\n",
    "kb_embeddings = embedder.encode(knowledge_base)\n",
    "\n",
    "# Step 2: Set up FAISS index for retrieval\n",
    "index = faiss.IndexFlatL2(kb_embeddings.shape[1])\n",
    "index.add(kb_embeddings)\n",
    "\n",
    "# Step 3: Simulated image query (you could replace this with actual image analysis)\n",
    "query = \"white fuzzy spots on strawberry leaves\"\n",
    "query_embedding = embedder.encode([query])\n",
    "_, top_indices = index.search(query_embedding, k=2)  # Top 2 relevant documents\n",
    "retrieved_docs = [knowledge_base[i] for i in top_indices[0]]\n",
    "rag_context = \"\\n\".join(retrieved_docs)\n",
    "\n",
    "# Step 4: Define the messages for the chat\n",
    "messages = [\n",
    "    {\n",
    "        \"role\": \"user\",\n",
    "        \"content\": [\n",
    "            {\n",
    "                \"type\": \"text\",\n",
    "                \"text\": f\"\"\"Analyze this strawberry plant image in detail. Use the following context for disease detection:\n",
    "\n",
    "{rag_context}\n",
    "\n",
    "Return a JSON object with the following keys:\n",
    "- health_status\n",
    "- fungal_status\n",
    "- fruit_condition\n",
    "- leaf_health\n",
    "- particular diseases_detected\n",
    "- Recommendations to decrease the disease spread in hydroponic farm if health_status is good please provide some to strengthen the plant and maintain the health\n",
    "- Give me the particular fungiside or any that will decrease the disease if infected else return not needed\n",
    "- How to use the fungisides process in hydroponic farm\"\"\"\n",
    "            },\n",
    "            {\n",
    "                \"type\": \"image_url\",\n",
    "                \"image_url\": image_url\n",
    "            }\n",
    "        ]\n",
    "    }\n",
    "]\n",
    "\n",
    "# Step 5: Get chat response\n",
    "try:\n",
    "    chat_response = client.chat.complete(\n",
    "        model=model,\n",
    "        messages=messages\n",
    "    )\n",
    "\n",
    "    # Print the content of the response\n",
    "    print(chat_response.choices[0].message.content)\n",
    "\n",
    "except Exception as e:\n",
    "    print(f\"Error occurred: {str(e)}\")\n"
   ]
  },
  {
   "cell_type": "code",
   "execution_count": null,
   "metadata": {},
   "outputs": [
    {
     "name": "stdout",
     "output_type": "stream",
     "text": [
      "bad-strawberry1.jpg\n",
      "bad-strawberry10.jpg\n",
      "bad-strawberry19.jpg\n",
      "bad-strawberry3.jpg\n",
      "good-strawberry1.jpg\n"
     ]
    }
   ],
   "source": [
    "# Example: List all objects in the bucket\n",
    "response = s3.list_objects_v2(Bucket=bucket_name)\n",
    "if 'Contents' in response:\n",
    "    for obj in response['Contents']:\n",
    "        print(obj['Key'])\n",
    "else:\n",
    "    print(\"No objects found in the bucket.\")"
   ]
  }
 ],
 "metadata": {
  "colab": {
   "provenance": []
  },
  "kernelspec": {
   "display_name": "Python 3",
   "name": "python3"
  },
  "language_info": {
   "codemirror_mode": {
    "name": "ipython",
    "version": 3
   },
   "file_extension": ".py",
   "mimetype": "text/x-python",
   "name": "python",
   "nbconvert_exporter": "python",
   "pygments_lexer": "ipython3",
   "version": "3.12.2"
  }
 },
 "nbformat": 4,
 "nbformat_minor": 0
}
